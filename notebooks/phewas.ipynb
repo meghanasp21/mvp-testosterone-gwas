{
 "cells": [
  {
   "cell_type": "code",
   "execution_count": 1,
   "id": "d1acaf90",
   "metadata": {},
   "outputs": [],
   "source": [
    "import pandas as pd\n",
    "import os"
   ]
  },
  {
   "cell_type": "markdown",
   "id": "b1a29c78",
   "metadata": {},
   "source": [
    "### Get significant PheWAS associations"
   ]
  },
  {
   "cell_type": "code",
   "execution_count": 2,
   "id": "74eb2ad2",
   "metadata": {},
   "outputs": [],
   "source": [
    "total=pd.read_excel(\"../data/phewas/total.male.clean.out.with.desc.xlsx\")\n",
    "free=pd.read_excel(\"../data/phewas/free.male.clean.out.with.desc.xlsx\")\n",
    "shbg=pd.read_excel(\"../data/phewas/shbg.male.clean.out.with.desc.xlsx\")\n",
    "hypogonad=pd.read_excel(\"../data/phewas/hypogonad.male.clean.out.with.desc.xlsx\")"
   ]
  },
  {
   "cell_type": "code",
   "execution_count": 3,
   "id": "f21ff47f-edd3-4af9-8aba-e8a8793364a9",
   "metadata": {},
   "outputs": [],
   "source": [
    "thresh=.05/len(total[\"phecode\"].unique())"
   ]
  },
  {
   "cell_type": "code",
   "execution_count": 4,
   "id": "f14b1163-b810-4a22-934f-513e85d29f67",
   "metadata": {},
   "outputs": [],
   "source": [
    "total_sig=total[total[\"p\"]<=thresh]\n",
    "free_sig=free[free[\"p\"]<=thresh]\n",
    "shbg_sig=shbg[shbg[\"p\"]<=thresh]\n",
    "hypogonad_sig=hypogonad[hypogonad[\"p\"]<=thresh]"
   ]
  },
  {
   "cell_type": "code",
   "execution_count": 5,
   "id": "ba88d84b-b0f7-4f1b-be05-87dcb77bdeb4",
   "metadata": {},
   "outputs": [
    {
     "name": "stderr",
     "output_type": "stream",
     "text": [
      "/tmp/ipykernel_2236457/3267862476.py:1: SettingWithCopyWarning: \n",
      "A value is trying to be set on a copy of a slice from a DataFrame.\n",
      "Try using .loc[row_indexer,col_indexer] = value instead\n",
      "\n",
      "See the caveats in the documentation: https://pandas.pydata.org/pandas-docs/stable/user_guide/indexing.html#returning-a-view-versus-a-copy\n",
      "  total_sig[\"pheno\"]=\"total\"\n",
      "/tmp/ipykernel_2236457/3267862476.py:2: SettingWithCopyWarning: \n",
      "A value is trying to be set on a copy of a slice from a DataFrame.\n",
      "Try using .loc[row_indexer,col_indexer] = value instead\n",
      "\n",
      "See the caveats in the documentation: https://pandas.pydata.org/pandas-docs/stable/user_guide/indexing.html#returning-a-view-versus-a-copy\n",
      "  free_sig[\"pheno\"]=\"free\"\n",
      "/tmp/ipykernel_2236457/3267862476.py:3: SettingWithCopyWarning: \n",
      "A value is trying to be set on a copy of a slice from a DataFrame.\n",
      "Try using .loc[row_indexer,col_indexer] = value instead\n",
      "\n",
      "See the caveats in the documentation: https://pandas.pydata.org/pandas-docs/stable/user_guide/indexing.html#returning-a-view-versus-a-copy\n",
      "  shbg_sig[\"pheno\"]=\"shbg\"\n",
      "/tmp/ipykernel_2236457/3267862476.py:4: SettingWithCopyWarning: \n",
      "A value is trying to be set on a copy of a slice from a DataFrame.\n",
      "Try using .loc[row_indexer,col_indexer] = value instead\n",
      "\n",
      "See the caveats in the documentation: https://pandas.pydata.org/pandas-docs/stable/user_guide/indexing.html#returning-a-view-versus-a-copy\n",
      "  hypogonad_sig[\"pheno\"]=\"hypogonad\"\n"
     ]
    }
   ],
   "source": [
    "total_sig[\"pheno\"]=\"total\"\n",
    "free_sig[\"pheno\"]=\"free\"\n",
    "shbg_sig[\"pheno\"]=\"shbg\"\n",
    "hypogonad_sig[\"pheno\"]=\"hypogonad\""
   ]
  },
  {
   "cell_type": "code",
   "execution_count": 6,
   "id": "1fd1ec92-9d01-48f4-be7e-fbd1fed17a43",
   "metadata": {},
   "outputs": [],
   "source": [
    "phewas_sig=total_sig.append(free_sig)\n",
    "phewas_sig=phewas_sig.append(shbg_sig)\n",
    "phewas_sig=phewas_sig.append(hypogonad_sig)"
   ]
  },
  {
   "cell_type": "code",
   "execution_count": 7,
   "id": "b6a3363b-49c6-4800-a6f6-de4f56374639",
   "metadata": {},
   "outputs": [],
   "source": [
    "phewas_sig[\"phecode\"]=phewas_sig[\"phecode\"].astype(str)\n",
    "phewas_sig[\"phecode_general\"]=phewas_sig[\"phecode\"].str.split(\".\").str[0]"
   ]
  },
  {
   "cell_type": "markdown",
   "id": "9b14e990-02d3-4762-9409-c9f65af06acf",
   "metadata": {},
   "source": [
    "### merge coloc values"
   ]
  },
  {
   "cell_type": "code",
   "execution_count": 9,
   "id": "e543e6a7-77f6-4933-aabc-e935798e17f5",
   "metadata": {},
   "outputs": [],
   "source": [
    "coloc=pd.read_csv(\"compiled.coloc.results.csv\")\n",
    "coloc2=pd.read_csv(\"compiled.coloc.results2.csv\")\n",
    "coloc2=pd.read_csv(\"compiled.coloc.results2.csv\")"
   ]
  },
  {
   "cell_type": "code",
   "execution_count": 15,
   "id": "7c116238-f027-4478-b56e-258928958c1c",
   "metadata": {},
   "outputs": [],
   "source": [
    "coloc[\"ID\"]=coloc[\"file\"].str.rsplit(\".\",5).str[0]\n",
    "coloc[\"pheno\"]=coloc[\"file\"].str.split(\".\").str[5]\n",
    "coloc[\"phecode\"]=coloc[\"file\"].str.split(\".\").str[4]\n",
    "coloc[\"phecode\"]=coloc[\"phecode\"].str.split(\"phe_\").str[1]\n",
    "coloc[\"phecode\"]=coloc[\"phecode\"].str.replace(\"_\",\".\")\n",
    "coloc[\"phecode\"]=coloc[\"phecode\"].astype(float)"
   ]
  },
  {
   "cell_type": "code",
   "execution_count": 16,
   "id": "b07d56f1-78aa-4d33-84bc-33597b545a07",
   "metadata": {},
   "outputs": [],
   "source": [
    "coloc=coloc[coloc[\"file\"].str.contains(\".p.results\")]"
   ]
  },
  {
   "cell_type": "code",
   "execution_count": 17,
   "id": "b2862022-db76-407e-95d8-cb8e18b51a17",
   "metadata": {},
   "outputs": [],
   "source": [
    "phewas_sig[\"ID\"]=phewas_sig[\"snp\"].str.split(\"_\").str[0]\n",
    "phewas_sig[\"phecode\"]=phewas_sig[\"phecode\"].astype(float)"
   ]
  },
  {
   "cell_type": "code",
   "execution_count": 89,
   "id": "1bf22db1-4ed6-4086-96f8-b5af5617ab62",
   "metadata": {},
   "outputs": [],
   "source": [
    "compare=pd.merge(phewas_sig, coloc, on=[\"ID\",\"pheno\",\"phecode\"],how=\"left\")"
   ]
  },
  {
   "cell_type": "markdown",
   "id": "1b0fb760-a18e-4f22-90f8-7813672b02d8",
   "metadata": {},
   "source": [
    "### LabWAS"
   ]
  },
  {
   "cell_type": "code",
   "execution_count": 48,
   "id": "38e21f6d-3f6c-4d60-8ea7-1832c73d5358",
   "metadata": {},
   "outputs": [],
   "source": [
    "labwas=pd.read_csv(\"../data/compiled.labwas.median.csv\",delimiter=\"\\t\")"
   ]
  },
  {
   "cell_type": "code",
   "execution_count": 49,
   "id": "e40a770b-e47f-453a-8336-cfd053dd35a8",
   "metadata": {},
   "outputs": [
    {
     "name": "stderr",
     "output_type": "stream",
     "text": [
      "/tmp/ipykernel_1787073/146481481.py:2: SettingWithCopyWarning: \n",
      "A value is trying to be set on a copy of a slice from a DataFrame.\n",
      "Try using .loc[row_indexer,col_indexer] = value instead\n",
      "\n",
      "See the caveats in the documentation: https://pandas.pydata.org/pandas-docs/stable/user_guide/indexing.html#returning-a-view-versus-a-copy\n",
      "  check[\"ID\"]=check[\"ID\"].str.split(\"chr\").str[1]\n"
     ]
    }
   ],
   "source": [
    "labwas=labwas[labwas[\"file\"].str.contains(\"ast_median\")]\n",
    "labwas[\"ID\"]=check[\"ID\"].str.split(\"chr\").str[1]"
   ]
  },
  {
   "cell_type": "code",
   "execution_count": 54,
   "id": "05c43faa-6b4c-4307-bd83-b75a0df7deed",
   "metadata": {},
   "outputs": [
    {
     "data": {
      "text/plain": [
       "43"
      ]
     },
     "execution_count": 54,
     "metadata": {},
     "output_type": "execute_result"
    }
   ],
   "source": [
    "len(labwas[labwas[\"P\"]<(0.05/145)][\"ID\"].unique())"
   ]
  }
 ],
 "metadata": {
  "kernelspec": {
   "display_name": "Python 3 (ipykernel)",
   "language": "python",
   "name": "python3"
  },
  "language_info": {
   "codemirror_mode": {
    "name": "ipython",
    "version": 3
   },
   "file_extension": ".py",
   "mimetype": "text/x-python",
   "name": "python",
   "nbconvert_exporter": "python",
   "pygments_lexer": "ipython3",
   "version": "3.9.18"
  }
 },
 "nbformat": 4,
 "nbformat_minor": 5
}
