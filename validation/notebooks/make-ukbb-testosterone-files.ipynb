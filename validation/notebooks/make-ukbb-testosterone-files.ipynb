{
 "cells": [
  {
   "cell_type": "code",
   "execution_count": 1,
   "metadata": {},
   "outputs": [
    {
     "name": "stderr",
     "output_type": "stream",
     "text": [
      "/cellar/users/mpagadal/Programs/miniconda3/lib/python3.9/site-packages/scipy/__init__.py:146: UserWarning: A NumPy version >=1.16.5 and <1.23.0 is required for this version of SciPy (detected version 1.26.0\n",
      "  warnings.warn(f\"A NumPy version >={np_minversion} and <{np_maxversion}\"\n"
     ]
    }
   ],
   "source": [
    "import pandas as pd\n",
    "import seaborn as sns\n",
    "import matplotlib.pyplot as plt\n",
    "import os\n",
    "import numpy as np"
   ]
  },
  {
   "cell_type": "code",
   "execution_count": 2,
   "metadata": {},
   "outputs": [],
   "source": [
    "#plotting\n",
    "import matplotlib\n",
    "import seaborn as sns\n",
    "matplotlib.rcParams['pdf.fonttype'] = 42\n",
    "matplotlib.rcParams['ps.fonttype'] = 42"
   ]
  },
  {
   "cell_type": "markdown",
   "metadata": {},
   "source": [
    "## Make Covariate File"
   ]
  },
  {
   "cell_type": "code",
   "execution_count": 39,
   "metadata": {},
   "outputs": [],
   "source": [
    "cov=pd.read_csv(\"/cellar/users/mpagadal/data/ukbb/plato_input/immune_cancer_lev1_pheno.txt\",delim_whitespace=True)\n",
    "cols=[x for x in cov.columns if \"-\" not in x]\n",
    "cov=cov[cols]\n",
    "cov_male=cov[cov[\"SEX\"]==0]\n",
    "cov_male=cov_male[~cov_male[\"FID\"].duplicated()]\n",
    "cov_male.to_csv(\"../data/UKBB/covariates/cov.tsv\",index=None,sep=\"\\t\")"
   ]
  },
  {
   "cell_type": "markdown",
   "metadata": {},
   "source": [
    "## Make Phenotype File"
   ]
  },
  {
   "cell_type": "code",
   "execution_count": 327,
   "metadata": {},
   "outputs": [],
   "source": [
    "ids=pd.read_csv(\"../data/UKBB/phenotypes/index.tab\")\n",
    "shbg=pd.read_csv(\"../data/UKBB/phenotypes/f.30830.tab\",delimiter=\"\\t\")\n",
    "pheno=pd.merge(ids,shbg,right_index=True,left_index=True)\n",
    "test=pd.read_csv(\"../data/UKBB/phenotypes/f.30850.tab\",delimiter=\"\\t\")\n",
    "pheno=pd.merge(pheno,test,right_index=True,left_index=True)\n",
    "\n",
    "#map IDs\n",
    "mp=pd.read_csv(\"../data/UKBB/phenotypes/zUKBiobank_Salem_shared_ID_mapping_file.txt\",delim_whitespace=True)\n",
    "mp=dict(zip(mp[\"FID_Salem\"],mp[\"FID\"]))\n",
    "pheno[\"FID\"]=pheno[\"f.eid\"].map(mp)\n",
    "\n",
    "pheno=pheno[pheno[\"FID\"].isin(cov_male[\"FID\"].tolist())]\n",
    "pheno=pheno[[\"FID\",\"FID\",\"f.30830.0.0\",\"f.30850.0.0\"]]\n",
    "pheno.columns=[\"FID\",\"IID\",\"SHBG\",\"Testosterone\"]\n",
    "pheno=pheno.fillna(\"NA\")\n",
    "pheno.to_csv(\"../data/UKBB/phenotypes/pheno.tsv\",index=None,sep=\"\\t\")"
   ]
  },
  {
   "cell_type": "code",
   "execution_count": 328,
   "metadata": {},
   "outputs": [
    {
     "data": {
      "text/plain": [
       "16.79814465034584"
      ]
     },
     "execution_count": 328,
     "metadata": {},
     "output_type": "execute_result"
    }
   ],
   "source": [
    "pheno[pheno[\"SHBG\"]!=\"NA\"][\"SHBG\"].std()"
   ]
  },
  {
   "cell_type": "code",
   "execution_count": 329,
   "metadata": {},
   "outputs": [
    {
     "data": {
      "text/plain": [
       "39.89883375849533"
      ]
     },
     "execution_count": 329,
     "metadata": {},
     "output_type": "execute_result"
    }
   ],
   "source": [
    "pheno[pheno[\"SHBG\"]!=\"NA\"][\"SHBG\"].mean()"
   ]
  },
  {
   "cell_type": "markdown",
   "metadata": {},
   "source": [
    "## Map to X chromosome IDs"
   ]
  },
  {
   "cell_type": "code",
   "execution_count": 35,
   "metadata": {},
   "outputs": [],
   "source": [
    "mpx=pd.read_csv(\"../data/UKBB/phenotypes/UKBiobank_genoQC_allancestry_linker.txt\",delim_whitespace=True)\n",
    "mapx=dict(zip(mpx[\"FID\"],mpx[\"FID_Salem\"]))"
   ]
  },
  {
   "cell_type": "code",
   "execution_count": 331,
   "metadata": {},
   "outputs": [],
   "source": [
    "pheno=pd.read_csv(\"../data/UKBB/phenotypes/pheno.rank.csv\",delimiter=\"\\t\")\n",
    "pheno[\"FID\"]=pheno[\"FID\"].map(mapx)\n",
    "pheno[\"IID\"]=pheno[\"IID\"].map(mapx)\n",
    "pheno.to_csv(\"../data/UKBB/phenotypes/pheno.rank.x.csv\",index=None,sep=\"\\t\")"
   ]
  },
  {
   "cell_type": "code",
   "execution_count": 332,
   "metadata": {},
   "outputs": [],
   "source": [
    "cov=pd.read_csv(\"../data/UKBB/covariates/cov.tsv\",delimiter=\"\\t\")\n",
    "cov[\"FID\"]=cov[\"FID\"].map(mapx)\n",
    "cov[\"IID\"]=cov[\"IID\"].map(mapx)\n",
    "cov_filt=cov[~cov[\"FID\"].duplicated()]\n",
    "cov_filt.to_csv(\"../data/UKBB/covariates/cov.x.tsv\",sep=\"\\t\",index=None)"
   ]
  },
  {
   "cell_type": "markdown",
   "metadata": {},
   "source": [
    "### Make PRS"
   ]
  },
  {
   "cell_type": "code",
   "execution_count": 3,
   "metadata": {},
   "outputs": [],
   "source": [
    "def make_ukbb_prs(compiled_raw, analysis_type, sumstats, snps):\n",
    "    \n",
    "    print(\"{} PRS snps\".format(len(snps)))\n",
    "    \n",
    "    #keep snps in list\n",
    "    keep_snps=[]\n",
    "    \n",
    "    for x in snps:\n",
    "        try:\n",
    "            keep_snps.append([s for s in compiled_raw.columns if x in s][0])\n",
    "        except:\n",
    "            pass\n",
    "    \n",
    "    compiled_raw = compiled_raw[[\"IID\"]+keep_snps]\n",
    "    \n",
    "    #format raw files\n",
    "    compiled_raw=compiled_raw.set_index(\"IID\")\n",
    "    compiled_raw=compiled_raw.T\n",
    "    compiled_raw[\"min_allele\"]=compiled_raw.index.str.split(\"_\").str[-1]\n",
    "    \n",
    "    #remove duplicates\n",
    "    compiled_raw[\"snp\"]=compiled_raw.index.str.split(\"_\").str[0]\n",
    "    compiled_raw=compiled_raw[~compiled_raw[\"snp\"].duplicated()]\n",
    "    del compiled_raw[\"snp\"]\n",
    "    \n",
    "    compiled_raw.index=compiled_raw.index.str.split(\"_\").str[0]\n",
    "    \n",
    "    #reformat summary\n",
    "    if analysis_type == \"logistic\":\n",
    "        summary_merge=sumstats[[\"rsid\",\"A1\",\"BETA\"]].copy()\n",
    "        summary_merge=summary_merge.drop_duplicates(subset=\"rsid\",keep=\"first\")\n",
    "        summary_merge=summary_merge.set_index(\"rsid\")\n",
    "        summary_merge.index=summary_merge.index.str.split(\"_\").str[0]\n",
    "        \n",
    "    if analysis_type == \"linear\":\n",
    "        summary_merge=sumstats[[\"rsid\",\"A1\",\"BETA\"]].copy()\n",
    "        summary_merge=summary_merge.drop_duplicates(subset=\"rsid\",keep=\"first\")\n",
    "        summary_merge=summary_merge.set_index(\"rsid\")\n",
    "        summary_merge.index=summary_merge.index.str.split(\"_\").str[0]\n",
    "    \n",
    "    #annotate the genotypes\n",
    "    compiled_raw=pd.merge(compiled_raw,summary_merge, left_index=True,right_index=True,how=\"left\")\n",
    "    print(\"{} snps missing weight\".format(len(compiled_raw[compiled_raw[\"BETA\"].isnull()])))\n",
    "    \n",
    "    compiled_raw=compiled_raw[~compiled_raw[\"BETA\"].isnull()] #remove null weights\n",
    "    compiled_raw[\"BETA\"]=np.where(compiled_raw[\"min_allele\"]!=compiled_raw[\"A1\"],compiled_raw[\"BETA\"]*-1,compiled_raw[\"BETA\"]) #orient the odds ratio\n",
    "    print(\"switching {} genotypes\".format(len(compiled_raw[compiled_raw[\"min_allele\"]!=compiled_raw[\"A1\"]]))) #number of mismatched genotypes\n",
    "\n",
    "    del compiled_raw[\"min_allele\"]\n",
    "    del compiled_raw[\"A1\"]\n",
    "\n",
    "    #get beta values\n",
    "    mp_beta=dict(zip(compiled_raw.index,compiled_raw[\"BETA\"]))\n",
    "    compiled_raw_switch=compiled_raw.iloc[:,:-1].T\n",
    "    \n",
    "    #align to all positive snps\n",
    "    switch_snps=[k for k,v in mp_beta.items() if v < 0]\n",
    "    \n",
    "    compiled_raw_switch=compiled_raw_switch.fillna(0)\n",
    "    \n",
    "    for x in switch_snps:\n",
    "        compiled_raw_switch[x]=2-compiled_raw_switch[x]\n",
    "        \n",
    "    compiled_raw_switch=compiled_raw_switch.T\n",
    "    compiled_raw_switch[\"beta\"]=compiled_raw_switch.index.map(mp_beta)\n",
    "    compiled_raw_switch[\"beta\"]=abs(compiled_raw_switch[\"beta\"])\n",
    "    compiled_raw_switch=compiled_raw_switch.astype(float)\n",
    "    \n",
    "    #compile weighted genotypes\n",
    "    compiled_raw_switch_out=compiled_raw_switch.iloc[:,:-1].mul(compiled_raw_switch[\"beta\"],axis=0)\n",
    "    raw_prs=compiled_raw_switch.iloc[:,:-1].mul(compiled_raw_switch[\"beta\"],axis=0).sum(axis=0).reset_index()\n",
    "    raw_prs.columns=[\"IID\",\"PRS\"]\n",
    "    \n",
    "    return(raw_prs)"
   ]
  },
  {
   "cell_type": "code",
   "execution_count": 4,
   "metadata": {},
   "outputs": [],
   "source": [
    "def combine_raw(direct):\n",
    "    '''\n",
    "    combine raw files\n",
    "    '''\n",
    "    files=[x for x in os.listdir(direct) if \"raw\" in x] #get all files\n",
    "    compiled_df=pd.read_csv(direct+files[0],delimiter=\"\\t\")\n",
    "    for x in files[1:]:\n",
    "        print(x)\n",
    "        df=pd.read_csv(direct+x,delimiter=\"\\t\")\n",
    "        compiled_df=pd.merge(compiled_df, df, on=[\"FID\",\"IID\",\"PAT\",\"MAT\",\"SEX\",\"PHENOTYPE\"],how=\"left\")\n",
    "        \n",
    "    return(compiled_df)"
   ]
  },
  {
   "cell_type": "code",
   "execution_count": 5,
   "metadata": {},
   "outputs": [
    {
     "name": "stdout",
     "output_type": "stream",
     "text": [
      "chr22.raw\n",
      "chr2.raw\n",
      "chr19.raw\n",
      "chr10.raw\n",
      "chr17.raw\n",
      "chr16.raw\n",
      "chr11.raw\n",
      "chr4.raw\n",
      "chr3.raw\n",
      "chr9.raw\n",
      "chr12.raw\n",
      "chr15.raw\n",
      "chr7.raw\n",
      "chr6.raw\n",
      "chr1.raw\n",
      "chr14.raw\n",
      "chr8.raw\n"
     ]
    }
   ],
   "source": [
    "ukbb_geno=combine_raw(\"../data/UKBB/genotypes/\")"
   ]
  },
  {
   "cell_type": "code",
   "execution_count": 14,
   "metadata": {},
   "outputs": [],
   "source": [
    "sumstats=pd.read_csv(\"../../supplemental/tables1.csv\",delimiter=\"\\t\")\n",
    "pheno=pd.read_csv(\"../data/UKBB/phenotypes/pheno.tsv\",delimiter=\"\\t\")"
   ]
  },
  {
   "cell_type": "code",
   "execution_count": 15,
   "metadata": {},
   "outputs": [
    {
     "name": "stdout",
     "output_type": "stream",
     "text": [
      "73 PRS snps\n",
      "0 snps missing weight\n",
      "switching 51 genotypes\n"
     ]
    }
   ],
   "source": [
    "total_prs=make_ukbb_prs(ukbb_geno, \"logistic\", sumstats[sumstats[\"pheno\"]==\"total\"], sumstats[sumstats[\"pheno\"]==\"total\"][\"rsid\"].tolist())\n",
    "total_prs=pd.merge(total_prs, pheno, on=\"IID\",how=\"left\")"
   ]
  },
  {
   "cell_type": "code",
   "execution_count": 16,
   "metadata": {},
   "outputs": [],
   "source": [
    "def quantile_plot(df,pheno):\n",
    "    betas=[]\n",
    "    errors=[]\n",
    "    for i in range(10):\n",
    "        print(i)\n",
    "        thresh=df[\"PRS\"].quantile(0.1*i)\n",
    "        df_thresh=df[(df[\"PRS\"]<df[\"PRS\"].quantile(0.1*(i+1)))&(df[\"PRS\"]>df[\"PRS\"].quantile(0.1*i))]\n",
    "        betas.append(df_thresh[pheno].mean())\n",
    "        errors.append(df_thresh[pheno].std()/np.sqrt(len(df_thresh)))\n",
    "    return(betas, errors)"
   ]
  },
  {
   "cell_type": "code",
   "execution_count": 22,
   "metadata": {},
   "outputs": [
    {
     "name": "stdout",
     "output_type": "stream",
     "text": [
      "0\n",
      "1\n",
      "2\n",
      "3\n",
      "4\n",
      "5\n",
      "6\n",
      "7\n",
      "8\n",
      "9\n"
     ]
    }
   ],
   "source": [
    "beta, err = quantile_plot(total_prs,\"Testosterone\")"
   ]
  },
  {
   "cell_type": "code",
   "execution_count": 23,
   "metadata": {},
   "outputs": [
    {
     "data": {
      "image/png": "[encoded data removed]",
      "text/plain": [
       "<Figure size 640x480 with 1 Axes>"
      ]
     },
     "metadata": {},
     "output_type": "display_data"
    }
   ],
   "source": [
    "plt.errorbar([x*10 for x in range(10)], beta, yerr=err, fmt='o', elinewidth=3, capsize=3, color=\"blue\")\n",
    "plt.ylabel(\"total testosterone (nmol/L)\")\n",
    "plt.xlabel(\"quantiles\")\n",
    "plt.savefig(\"total.ukbb.quantile.pdf\")"
   ]
  },
  {
   "cell_type": "code",
   "execution_count": 26,
   "metadata": {},
   "outputs": [
    {
     "name": "stdout",
     "output_type": "stream",
     "text": [
      "14 PRS snps\n",
      "0 snps missing weight\n",
      "switching 9 genotypes\n"
     ]
    }
   ],
   "source": [
    "shbg_prs=make_ukbb_prs(ukbb_geno, \"logistic\", sumstats[sumstats[\"pheno\"]==\"shbg\"], sumstats[sumstats[\"pheno\"]==\"shbg\"][\"rsid\"].tolist())\n",
    "shbg_prs=pd.merge(shbg_prs, pheno, on=\"IID\",how=\"left\")"
   ]
  },
  {
   "cell_type": "code",
   "execution_count": 28,
   "metadata": {},
   "outputs": [
    {
     "name": "stdout",
     "output_type": "stream",
     "text": [
      "0\n",
      "1\n",
      "2\n",
      "3\n",
      "4\n",
      "5\n",
      "6\n",
      "7\n",
      "8\n",
      "9\n"
     ]
    }
   ],
   "source": [
    "beta, err = quantile_plot(shbg_prs,\"SHBG\")"
   ]
  },
  {
   "cell_type": "code",
   "execution_count": 29,
   "metadata": {},
   "outputs": [
    {
     "data": {
      "image/png": "[encoded data removed]",
      "text/plain": [
       "<Figure size 640x480 with 1 Axes>"
      ]
     },
     "metadata": {},
     "output_type": "display_data"
    }
   ],
   "source": [
    "plt.errorbar([x*10 for x in range(10)], beta, yerr=err, fmt='o', elinewidth=3, capsize=3, color=\"blue\")\n",
    "plt.ylabel(\"SHBG (nmol/L)\")\n",
    "plt.xlabel(\"quantiles\")\n",
    "plt.savefig(\"shbg.ukbb.quantile.pdf\")"
   ]
  },
  {
   "cell_type": "code",
   "execution_count": 77,
   "metadata": {},
   "outputs": [
    {
     "name": "stderr",
     "output_type": "stream",
     "text": [
      "/cellar/users/mpagadal/Programs/miniconda3/lib/python3.9/site-packages/IPython/core/interactiveshell.py:3526: DtypeWarning: Columns (33,34,35,36,37,38,39,40,41,42,43,44,45,46,47,48,49,50,51,52,53,54,55,56,57,58,59,60,61,62,63,64,65) have mixed types.Specify dtype option on import or set low_memory=False.\n",
      "  exec(code_obj, self.user_global_ns, self.user_ns)\n"
     ]
    }
   ],
   "source": [
    "icd=pd.read_csv(\"/cellar/users/mpagadal/data/ukbb/phenotypes/f41202.pheno\",delimiter=\"\\t\")\n",
    "eid=pd.read_csv(\"/cellar/users/mpagadal/data/ukbb/phenotypes/f.eid\",delimiter=\"\\t\")\n",
    "icd.index=eid[\"f.eid\"].tolist()"
   ]
  },
  {
   "cell_type": "code",
   "execution_count": 78,
   "metadata": {},
   "outputs": [],
   "source": [
    "hypogonad_pts=[]\n",
    "\n",
    "for x in icd.columns:\n",
    "    icd_filt=icd[~icd[x].isnull()]\n",
    "    hypogonad_pts=hypogonad_pts+icd_filt[icd_filt[x].str.contains(\"E291\")].index.tolist()"
   ]
  },
  {
   "cell_type": "code",
   "execution_count": 79,
   "metadata": {},
   "outputs": [],
   "source": [
    "diabetes_pts=[]\n",
    "\n",
    "for x in icd.columns:\n",
    "    icd_filt=icd[~icd[x].isnull()]\n",
    "    diabetes_pts=diabetes_pts+icd_filt[icd_filt[x].str.contains(\"E119\")].index.tolist()"
   ]
  },
  {
   "cell_type": "code",
   "execution_count": 80,
   "metadata": {},
   "outputs": [
    {
     "name": "stdout",
     "output_type": "stream",
     "text": [
      "76 PRS snps\n",
      "0 snps missing weight\n",
      "switching 45 genotypes\n"
     ]
    }
   ],
   "source": [
    "hypogonad_prs=make_ukbb_prs(ukbb_geno, \"logistic\", sumstats[sumstats[\"pheno\"]==\"hypogonad\"], sumstats[sumstats[\"pheno\"]==\"hypogonad\"][\"rsid\"].tolist())"
   ]
  },
  {
   "cell_type": "code",
   "execution_count": 81,
   "metadata": {},
   "outputs": [],
   "source": [
    "hypogonad_prs[\"FID\"]=hypogonad_prs[\"IID\"].map(mapx)"
   ]
  },
  {
   "cell_type": "code",
   "execution_count": 82,
   "metadata": {},
   "outputs": [],
   "source": [
    "hypogonad_prs[\"hypogonad\"]=np.where(hypogonad_prs[\"FID\"].isin(hypogonad_pts),1,0)"
   ]
  },
  {
   "cell_type": "code",
   "execution_count": 83,
   "metadata": {},
   "outputs": [],
   "source": [
    "hypogonad_prs=hypogonad_prs[hypogonad_prs[\"IID\"].isin(cov[cov[\"SEX\"]==0][\"FID\"].tolist())]"
   ]
  },
  {
   "cell_type": "code",
   "execution_count": 84,
   "metadata": {},
   "outputs": [
    {
     "data": {
      "text/plain": [
       "0    176137\n",
       "1        73\n",
       "Name: hypogonad, dtype: int64"
      ]
     },
     "execution_count": 84,
     "metadata": {},
     "output_type": "execute_result"
    }
   ],
   "source": [
    "hypogonad_prs[\"hypogonad\"].value_counts()"
   ]
  },
  {
   "cell_type": "code",
   "execution_count": 85,
   "metadata": {},
   "outputs": [],
   "source": [
    "hypogonad_prs=pd.merge(hypogonad_prs, cov, on=\"IID\",how=\"left\")"
   ]
  },
  {
   "cell_type": "code",
   "execution_count": 86,
   "metadata": {},
   "outputs": [],
   "source": [
    "import statsmodels.api as sm"
   ]
  },
  {
   "cell_type": "code",
   "execution_count": 87,
   "metadata": {},
   "outputs": [
    {
     "data": {
      "text/html": [
       "<div>\n",
       "<style scoped>\n",
       "    .dataframe tbody tr th:only-of-type {\n",
       "        vertical-align: middle;\n",
       "    }\n",
       "\n",
       "    .dataframe tbody tr th {\n",
       "        vertical-align: top;\n",
       "    }\n",
       "\n",
       "    .dataframe thead th {\n",
       "        text-align: right;\n",
       "    }\n",
       "</style>\n",
       "<table border=\"1\" class=\"dataframe\">\n",
       "  <thead>\n",
       "    <tr style=\"text-align: right;\">\n",
       "      <th></th>\n",
       "      <th>IID</th>\n",
       "      <th>PRS</th>\n",
       "      <th>FID_x</th>\n",
       "      <th>hypogonad</th>\n",
       "      <th>FID_y</th>\n",
       "      <th>AGE</th>\n",
       "      <th>SEX</th>\n",
       "      <th>PC1</th>\n",
       "      <th>PC2</th>\n",
       "      <th>PC3</th>\n",
       "      <th>PC4</th>\n",
       "      <th>PC5</th>\n",
       "      <th>PC6</th>\n",
       "      <th>PC7</th>\n",
       "      <th>PC8</th>\n",
       "      <th>PC9</th>\n",
       "      <th>PC10</th>\n",
       "    </tr>\n",
       "  </thead>\n",
       "  <tbody>\n",
       "    <tr>\n",
       "      <th>0</th>\n",
       "      <td>5443098</td>\n",
       "      <td>31.900595</td>\n",
       "      <td>1019058.0</td>\n",
       "      <td>0</td>\n",
       "      <td>5443098</td>\n",
       "      <td>50</td>\n",
       "      <td>0</td>\n",
       "      <td>0.008516</td>\n",
       "      <td>-0.007304</td>\n",
       "      <td>0.004849</td>\n",
       "      <td>0.005995</td>\n",
       "      <td>0.010934</td>\n",
       "      <td>-0.004181</td>\n",
       "      <td>0.008220</td>\n",
       "      <td>-0.006639</td>\n",
       "      <td>-0.002002</td>\n",
       "      <td>-0.001298</td>\n",
       "    </tr>\n",
       "    <tr>\n",
       "      <th>1</th>\n",
       "      <td>1243037</td>\n",
       "      <td>32.469119</td>\n",
       "      <td>5190972.0</td>\n",
       "      <td>0</td>\n",
       "      <td>1243037</td>\n",
       "      <td>47</td>\n",
       "      <td>0</td>\n",
       "      <td>0.000792</td>\n",
       "      <td>-0.008249</td>\n",
       "      <td>-0.002624</td>\n",
       "      <td>-0.007185</td>\n",
       "      <td>0.003787</td>\n",
       "      <td>0.001979</td>\n",
       "      <td>0.001577</td>\n",
       "      <td>0.001660</td>\n",
       "      <td>0.003851</td>\n",
       "      <td>-0.005347</td>\n",
       "    </tr>\n",
       "    <tr>\n",
       "      <th>2</th>\n",
       "      <td>3581610</td>\n",
       "      <td>32.198439</td>\n",
       "      <td>1331440.0</td>\n",
       "      <td>0</td>\n",
       "      <td>3581610</td>\n",
       "      <td>48</td>\n",
       "      <td>0</td>\n",
       "      <td>-0.006392</td>\n",
       "      <td>-0.010236</td>\n",
       "      <td>0.002409</td>\n",
       "      <td>0.003005</td>\n",
       "      <td>0.004278</td>\n",
       "      <td>-0.006781</td>\n",
       "      <td>0.010950</td>\n",
       "      <td>-0.000882</td>\n",
       "      <td>-0.002772</td>\n",
       "      <td>0.002935</td>\n",
       "    </tr>\n",
       "    <tr>\n",
       "      <th>3</th>\n",
       "      <td>5518499</td>\n",
       "      <td>31.858229</td>\n",
       "      <td>1195847.0</td>\n",
       "      <td>0</td>\n",
       "      <td>5518499</td>\n",
       "      <td>63</td>\n",
       "      <td>0</td>\n",
       "      <td>0.007675</td>\n",
       "      <td>-0.010931</td>\n",
       "      <td>0.008970</td>\n",
       "      <td>0.001025</td>\n",
       "      <td>0.004731</td>\n",
       "      <td>0.000382</td>\n",
       "      <td>0.000261</td>\n",
       "      <td>0.008021</td>\n",
       "      <td>0.006225</td>\n",
       "      <td>0.005383</td>\n",
       "    </tr>\n",
       "    <tr>\n",
       "      <th>4</th>\n",
       "      <td>1447072</td>\n",
       "      <td>32.131247</td>\n",
       "      <td>2480762.0</td>\n",
       "      <td>0</td>\n",
       "      <td>1447072</td>\n",
       "      <td>53</td>\n",
       "      <td>0</td>\n",
       "      <td>0.004436</td>\n",
       "      <td>-0.007532</td>\n",
       "      <td>0.001511</td>\n",
       "      <td>0.003927</td>\n",
       "      <td>0.007413</td>\n",
       "      <td>-0.008398</td>\n",
       "      <td>0.010342</td>\n",
       "      <td>0.000167</td>\n",
       "      <td>-0.001209</td>\n",
       "      <td>-0.005183</td>\n",
       "    </tr>\n",
       "  </tbody>\n",
       "</table>\n",
       "</div>"
      ],
      "text/plain": [
       "       IID        PRS      FID_x  hypogonad    FID_y  AGE  SEX       PC1  \\\n",
       "0  5443098  31.900595  1019058.0          0  5443098   50    0  0.008516   \n",
       "1  1243037  32.469119  5190972.0          0  1243037   47    0  0.000792   \n",
       "2  3581610  32.198439  1331440.0          0  3581610   48    0 -0.006392   \n",
       "3  5518499  31.858229  1195847.0          0  5518499   63    0  0.007675   \n",
       "4  1447072  32.131247  2480762.0          0  1447072   53    0  0.004436   \n",
       "\n",
       "        PC2       PC3       PC4       PC5       PC6       PC7       PC8  \\\n",
       "0 -0.007304  0.004849  0.005995  0.010934 -0.004181  0.008220 -0.006639   \n",
       "1 -0.008249 -0.002624 -0.007185  0.003787  0.001979  0.001577  0.001660   \n",
       "2 -0.010236  0.002409  0.003005  0.004278 -0.006781  0.010950 -0.000882   \n",
       "3 -0.010931  0.008970  0.001025  0.004731  0.000382  0.000261  0.008021   \n",
       "4 -0.007532  0.001511  0.003927  0.007413 -0.008398  0.010342  0.000167   \n",
       "\n",
       "        PC9      PC10  \n",
       "0 -0.002002 -0.001298  \n",
       "1  0.003851 -0.005347  \n",
       "2 -0.002772  0.002935  \n",
       "3  0.006225  0.005383  \n",
       "4 -0.001209 -0.005183  "
      ]
     },
     "execution_count": 87,
     "metadata": {},
     "output_type": "execute_result"
    }
   ],
   "source": [
    "hypogonad_prs.head()"
   ]
  },
  {
   "cell_type": "code",
   "execution_count": 91,
   "metadata": {},
   "outputs": [
    {
     "name": "stdout",
     "output_type": "stream",
     "text": [
      "0\n",
      "1\n"
     ]
    },
    {
     "name": "stderr",
     "output_type": "stream",
     "text": [
      "/tmp/ipykernel_3522492/223617886.py:11: SettingWithCopyWarning: \n",
      "A value is trying to be set on a copy of a slice from a DataFrame.\n",
      "Try using .loc[row_indexer,col_indexer] = value instead\n",
      "\n",
      "See the caveats in the documentation: https://pandas.pydata.org/pandas-docs/stable/user_guide/indexing.html#returning-a-view-versus-a-copy\n",
      "  hypogonad_prs_filt[\"group\"]=np.where(hypogonad_prs_filt[\"IID\"].isin(cases),1,0)\n"
     ]
    },
    {
     "name": "stdout",
     "output_type": "stream",
     "text": [
      "2\n",
      "3\n",
      "4\n",
      "5\n",
      "6\n",
      "7\n",
      "8\n",
      "9\n"
     ]
    }
   ],
   "source": [
    "odds=[]\n",
    "se=[]\n",
    "\n",
    "for i in range(10):\n",
    "    print(i)\n",
    "    cases=hypogonad_prs[(hypogonad_prs[\"PRS\"]>hypogonad_prs[\"PRS\"].quantile(.1*i))\n",
    "                        &(hypogonad_prs[\"PRS\"]<hypogonad_prs[\"PRS\"].quantile(.1*(i+1)))][\"IID\"].tolist()\n",
    "    controls=hypogonad_prs[(hypogonad_prs[\"PRS\"]>hypogonad_prs[\"PRS\"].quantile(.5))\n",
    "                        &(hypogonad_prs[\"PRS\"]<hypogonad_prs[\"PRS\"].quantile(.6))][\"IID\"].tolist()\n",
    "    hypogonad_prs_filt=hypogonad_prs[hypogonad_prs[\"IID\"].isin(cases+controls)]\n",
    "    hypogonad_prs_filt[\"group\"]=np.where(hypogonad_prs_filt[\"IID\"].isin(cases),1,0)\n",
    "\n",
    "    if i != 5:\n",
    "        model=sm.OLS(hypogonad_prs_filt[\"hypogonad\"],hypogonad_prs_filt[[\"group\",\"AGE\",\"PC1\",\"PC2\",\"PC3\"]])\n",
    "        res=model.fit()\n",
    "        odds.append(np.exp(res.params.tolist()[0]))\n",
    "        se.append(res.bse.tolist()[0])\n",
    "    else:\n",
    "        odds.append(1)\n",
    "        se.append(0)"
   ]
  },
  {
   "cell_type": "code",
   "execution_count": 92,
   "metadata": {},
   "outputs": [
    {
     "data": {
      "text/plain": [
       "10"
      ]
     },
     "execution_count": 92,
     "metadata": {},
     "output_type": "execute_result"
    }
   ],
   "source": [
    "len(se)"
   ]
  },
  {
   "cell_type": "code",
   "execution_count": 93,
   "metadata": {},
   "outputs": [
    {
     "data": {
      "image/png": "[encoded data removed]",
      "text/plain": [
       "<Figure size 640x480 with 1 Axes>"
      ]
     },
     "metadata": {},
     "output_type": "display_data"
    }
   ],
   "source": [
    "plt.errorbar([x*10 for x in range(0,10)], odds, yerr=se, fmt='o', elinewidth=3, capsize=3,color=\"blue\")\n",
    "plt.ylabel(\"odds of hypogonad\")\n",
    "plt.xlabel(\"quantiles\")\n",
    "plt.savefig(\"hypogonad.ukbb.quantile.pdf\")"
   ]
  },
  {
   "cell_type": "code",
   "execution_count": 111,
   "metadata": {},
   "outputs": [],
   "source": [
    "top=hypogonad_prs[hypogonad_prs[\"PRS\"]>hypogonad_prs[\"PRS\"].quantile(0.9)][\"IID\"].tolist()\n",
    "bottom=hypogonad_prs[hypogonad_prs[\"PRS\"]<hypogonad_prs[\"PRS\"].quantile(0.1)][\"IID\"].tolist()"
   ]
  },
  {
   "cell_type": "code",
   "execution_count": 112,
   "metadata": {},
   "outputs": [],
   "source": [
    "hypogonad_prs_filter=hypogonad_prs[hypogonad_prs[\"IID\"].isin(top+bottom)]"
   ]
  },
  {
   "cell_type": "code",
   "execution_count": 113,
   "metadata": {},
   "outputs": [
    {
     "name": "stderr",
     "output_type": "stream",
     "text": [
      "/tmp/ipykernel_3522492/1117791386.py:1: SettingWithCopyWarning: \n",
      "A value is trying to be set on a copy of a slice from a DataFrame.\n",
      "Try using .loc[row_indexer,col_indexer] = value instead\n",
      "\n",
      "See the caveats in the documentation: https://pandas.pydata.org/pandas-docs/stable/user_guide/indexing.html#returning-a-view-versus-a-copy\n",
      "  hypogonad_prs_filter[\"top\"]=np.where(hypogonad_prs_filter[\"IID\"].isin(top),1,0)\n"
     ]
    }
   ],
   "source": [
    "hypogonad_prs_filter[\"top\"]=np.where(hypogonad_prs_filter[\"IID\"].isin(top),1,0)"
   ]
  },
  {
   "cell_type": "code",
   "execution_count": 116,
   "metadata": {},
   "outputs": [],
   "source": [
    "model=sm.OLS(hypogonad_prs[\"hypogonad\"],hypogonad_prs[[\"PRS\",\"AGE\",\"PC1\",\"PC2\",\"PC3\"]])\n",
    "res=model.fit()"
   ]
  },
  {
   "cell_type": "code",
   "execution_count": 117,
   "metadata": {},
   "outputs": [
    {
     "data": {
      "text/html": [
       "<table class=\"simpletable\">\n",
       "<caption>OLS Regression Results</caption>\n",
       "<tr>\n",
       "  <th>Dep. Variable:</th>        <td>hypogonad</td>    <th>  R-squared (uncentered):</th>       <td>   0.000</td> \n",
       "</tr>\n",
       "<tr>\n",
       "  <th>Model:</th>                   <td>OLS</td>       <th>  Adj. R-squared (uncentered):</th>  <td>   0.000</td> \n",
       "</tr>\n",
       "<tr>\n",
       "  <th>Method:</th>             <td>Least Squares</td>  <th>  F-statistic:       </th>           <td>   15.30</td> \n",
       "</tr>\n",
       "<tr>\n",
       "  <th>Date:</th>             <td>Sun, 11 Feb 2024</td> <th>  Prob (F-statistic):</th>           <td>4.58e-15</td> \n",
       "</tr>\n",
       "<tr>\n",
       "  <th>Time:</th>                 <td>11:24:14</td>     <th>  Log-Likelihood:    </th>          <td>4.5052e+05</td>\n",
       "</tr>\n",
       "<tr>\n",
       "  <th>No. Observations:</th>      <td>181407</td>      <th>  AIC:               </th>          <td>-9.010e+05</td>\n",
       "</tr>\n",
       "<tr>\n",
       "  <th>Df Residuals:</th>          <td>181402</td>      <th>  BIC:               </th>          <td>-9.010e+05</td>\n",
       "</tr>\n",
       "<tr>\n",
       "  <th>Df Model:</th>              <td>     5</td>      <th>                     </th>               <td> </td>    \n",
       "</tr>\n",
       "<tr>\n",
       "  <th>Covariance Type:</th>      <td>nonrobust</td>    <th>                     </th>               <td> </td>    \n",
       "</tr>\n",
       "</table>\n",
       "<table class=\"simpletable\">\n",
       "<tr>\n",
       "   <td></td>      <th>coef</th>     <th>std err</th>      <th>t</th>      <th>P>|t|</th>  <th>[0.025</th>    <th>0.975]</th>  \n",
       "</tr>\n",
       "<tr>\n",
       "  <th>PRS</th> <td> 2.279e-05</td> <td> 1.05e-05</td> <td>    2.177</td> <td> 0.029</td> <td> 2.27e-06</td> <td> 4.33e-05</td>\n",
       "</tr>\n",
       "<tr>\n",
       "  <th>AGE</th> <td>-5.643e-06</td> <td> 5.83e-06</td> <td>   -0.967</td> <td> 0.333</td> <td>-1.71e-05</td> <td> 5.79e-06</td>\n",
       "</tr>\n",
       "<tr>\n",
       "  <th>PC1</th> <td>   -0.0005</td> <td>    0.003</td> <td>   -0.179</td> <td> 0.858</td> <td>   -0.006</td> <td>    0.005</td>\n",
       "</tr>\n",
       "<tr>\n",
       "  <th>PC2</th> <td>    0.0029</td> <td>    0.003</td> <td>    0.854</td> <td> 0.393</td> <td>   -0.004</td> <td>    0.009</td>\n",
       "</tr>\n",
       "<tr>\n",
       "  <th>PC3</th> <td>   -0.0035</td> <td>    0.005</td> <td>   -0.663</td> <td> 0.507</td> <td>   -0.014</td> <td>    0.007</td>\n",
       "</tr>\n",
       "</table>\n",
       "<table class=\"simpletable\">\n",
       "<tr>\n",
       "  <th>Omnibus:</th>       <td>566043.915</td> <th>  Durbin-Watson:     </th>    <td>   1.974</td>    \n",
       "</tr>\n",
       "<tr>\n",
       "  <th>Prob(Omnibus):</th>   <td> 0.000</td>   <th>  Jarque-Bera (JB):  </th> <td>45310794495.125</td>\n",
       "</tr>\n",
       "<tr>\n",
       "  <th>Skew:</th>            <td>49.481</td>   <th>  Prob(JB):          </th>    <td>    0.00</td>    \n",
       "</tr>\n",
       "<tr>\n",
       "  <th>Kurtosis:</th>       <td>2449.383</td>  <th>  Cond. No.          </th>    <td>7.32e+03</td>    \n",
       "</tr>\n",
       "</table><br/><br/>Notes:<br/>[1] R² is computed without centering (uncentered) since the model does not contain a constant.<br/>[2] Standard Errors assume that the covariance matrix of the errors is correctly specified.<br/>[3] The condition number is large, 7.32e+03. This might indicate that there are<br/>strong multicollinearity or other numerical problems."
      ],
      "text/plain": [
       "<class 'statsmodels.iolib.summary.Summary'>\n",
       "\"\"\"\n",
       "                                 OLS Regression Results                                \n",
       "=======================================================================================\n",
       "Dep. Variable:              hypogonad   R-squared (uncentered):                   0.000\n",
       "Model:                            OLS   Adj. R-squared (uncentered):              0.000\n",
       "Method:                 Least Squares   F-statistic:                              15.30\n",
       "Date:                Sun, 11 Feb 2024   Prob (F-statistic):                    4.58e-15\n",
       "Time:                        11:24:14   Log-Likelihood:                      4.5052e+05\n",
       "No. Observations:              181407   AIC:                                 -9.010e+05\n",
       "Df Residuals:                  181402   BIC:                                 -9.010e+05\n",
       "Df Model:                           5                                                  \n",
       "Covariance Type:            nonrobust                                                  \n",
       "==============================================================================\n",
       "                 coef    std err          t      P>|t|      [0.025      0.975]\n",
       "------------------------------------------------------------------------------\n",
       "PRS         2.279e-05   1.05e-05      2.177      0.029    2.27e-06    4.33e-05\n",
       "AGE        -5.643e-06   5.83e-06     -0.967      0.333   -1.71e-05    5.79e-06\n",
       "PC1           -0.0005      0.003     -0.179      0.858      -0.006       0.005\n",
       "PC2            0.0029      0.003      0.854      0.393      -0.004       0.009\n",
       "PC3           -0.0035      0.005     -0.663      0.507      -0.014       0.007\n",
       "==============================================================================\n",
       "Omnibus:                   566043.915   Durbin-Watson:                   1.974\n",
       "Prob(Omnibus):                  0.000   Jarque-Bera (JB):      45310794495.125\n",
       "Skew:                          49.481   Prob(JB):                         0.00\n",
       "Kurtosis:                    2449.383   Cond. No.                     7.32e+03\n",
       "==============================================================================\n",
       "\n",
       "Notes:\n",
       "[1] R² is computed without centering (uncentered) since the model does not contain a constant.\n",
       "[2] Standard Errors assume that the covariance matrix of the errors is correctly specified.\n",
       "[3] The condition number is large, 7.32e+03. This might indicate that there are\n",
       "strong multicollinearity or other numerical problems.\n",
       "\"\"\""
      ]
     },
     "execution_count": 117,
     "metadata": {},
     "output_type": "execute_result"
    }
   ],
   "source": [
    "res.summary()"
   ]
  },
  {
   "cell_type": "code",
   "execution_count": 118,
   "metadata": {},
   "outputs": [
    {
     "data": {
      "text/plain": [
       "1.000022790259694"
      ]
     },
     "execution_count": 118,
     "metadata": {},
     "output_type": "execute_result"
    }
   ],
   "source": [
    "np.exp(2.279e-05)"
   ]
  },
  {
   "cell_type": "code",
   "execution_count": 360,
   "metadata": {},
   "outputs": [],
   "source": [
    "total_prs[\"FID\"]=total_prs[\"IID\"].map(mapx)\n",
    "total_prs[\"diabetes\"]=np.where(total_prs[\"FID\"].isin(diabetes_pts),1,0)"
   ]
  },
  {
   "cell_type": "code",
   "execution_count": 361,
   "metadata": {},
   "outputs": [
    {
     "data": {
      "text/plain": [
       "0    486625\n",
       "1       784\n",
       "Name: diabetes, dtype: int64"
      ]
     },
     "execution_count": 361,
     "metadata": {},
     "output_type": "execute_result"
    }
   ],
   "source": [
    "total_prs[\"diabetes\"].value_counts()"
   ]
  },
  {
   "cell_type": "code",
   "execution_count": 362,
   "metadata": {},
   "outputs": [],
   "source": [
    "total_prs=pd.merge(total_prs, cov, on=\"FID\",how=\"left\")"
   ]
  },
  {
   "cell_type": "code",
   "execution_count": 363,
   "metadata": {},
   "outputs": [],
   "source": [
    "total_prs=total_prs[~total_prs[\"PC1\"].isnull()]"
   ]
  },
  {
   "cell_type": "code",
   "execution_count": 364,
   "metadata": {},
   "outputs": [
    {
     "name": "stdout",
     "output_type": "stream",
     "text": [
      "0\n",
      "1\n",
      "2\n"
     ]
    },
    {
     "name": "stderr",
     "output_type": "stream",
     "text": [
      "<ipython-input-364-3ce87995c406>:11: SettingWithCopyWarning: \n",
      "A value is trying to be set on a copy of a slice from a DataFrame.\n",
      "Try using .loc[row_indexer,col_indexer] = value instead\n",
      "\n",
      "See the caveats in the documentation: https://pandas.pydata.org/pandas-docs/stable/user_guide/indexing.html#returning-a-view-versus-a-copy\n",
      "  total_prs_filt[\"group\"]=np.where(total_prs_filt[\"FID\"].isin(cases),1,0)\n"
     ]
    },
    {
     "name": "stdout",
     "output_type": "stream",
     "text": [
      "3\n",
      "4\n",
      "5\n",
      "6\n",
      "7\n",
      "8\n",
      "9\n"
     ]
    }
   ],
   "source": [
    "odds=[]\n",
    "se=[]\n",
    "\n",
    "for i in range(10):\n",
    "    print(i)\n",
    "    cases=total_prs[(total_prs[\"PRS\"]>total_prs[\"PRS\"].quantile(.1*i))\n",
    "                        &(total_prs[\"PRS\"]<total_prs[\"PRS\"].quantile(.1*(i+1)))][\"FID\"].tolist()\n",
    "    controls=total_prs[(total_prs[\"PRS\"]>total_prs[\"PRS\"].quantile(.5))\n",
    "                        &(total_prs[\"PRS\"]<total_prs[\"PRS\"].quantile(.6))][\"FID\"].tolist()\n",
    "    total_prs_filt=total_prs[total_prs[\"FID\"].isin(cases+controls)]\n",
    "    total_prs_filt[\"group\"]=np.where(total_prs_filt[\"FID\"].isin(cases),1,0)\n",
    "\n",
    "    if i != 5:\n",
    "        model=sm.OLS(total_prs_filt[\"diabetes\"],total_prs_filt[[\"group\",\"AGE\",\"PC1\",\"PC2\",\"PC3\"]])\n",
    "        res=model.fit()\n",
    "        odds.append(np.exp(res.params.tolist()[0]))\n",
    "        se.append(res.bse.tolist()[0])\n",
    "    else:\n",
    "        odds.append(1)\n",
    "        se.append(0)"
   ]
  },
  {
   "cell_type": "code",
   "execution_count": 365,
   "metadata": {},
   "outputs": [
    {
     "data": {
      "image/png": "[encoded data removed]",
      "text/plain": [
       "<Figure size 432x288 with 1 Axes>"
      ]
     },
     "metadata": {
      "needs_background": "light"
     },
     "output_type": "display_data"
    }
   ],
   "source": [
    "plt.errorbar([x*10 for x in range(0,10)], odds, yerr=se, fmt='o', elinewidth=3, capsize=3,color=\"blue\")\n",
    "plt.ylabel(\"odds of hypogonad\")\n",
    "plt.xlabel(\"quantiles\")\n",
    "plt.savefig(\"diabetes.total.ukbb.quantile.pdf\")"
   ]
  },
  {
   "cell_type": "code",
   "execution_count": 366,
   "metadata": {},
   "outputs": [],
   "source": [
    "model=sm.OLS(total_prs[\"diabetes\"],total_prs[[\"PRS\",\"AGE\",\"PC1\",\"PC2\",\"PC3\"]])\n",
    "res=model.fit()"
   ]
  },
  {
   "cell_type": "code",
   "execution_count": 367,
   "metadata": {},
   "outputs": [
    {
     "data": {
      "text/html": [
       "<table class=\"simpletable\">\n",
       "<caption>OLS Regression Results</caption>\n",
       "<tr>\n",
       "  <th>Dep. Variable:</th>        <td>diabetes</td>     <th>  R-squared (uncentered):</th>       <td>   0.002</td> \n",
       "</tr>\n",
       "<tr>\n",
       "  <th>Model:</th>                   <td>OLS</td>       <th>  Adj. R-squared (uncentered):</th>  <td>   0.002</td> \n",
       "</tr>\n",
       "<tr>\n",
       "  <th>Method:</th>             <td>Least Squares</td>  <th>  F-statistic:       </th>           <td>   78.65</td> \n",
       "</tr>\n",
       "<tr>\n",
       "  <th>Date:</th>             <td>Thu, 20 Jul 2023</td> <th>  Prob (F-statistic):</th>           <td>1.05e-82</td> \n",
       "</tr>\n",
       "<tr>\n",
       "  <th>Time:</th>                 <td>23:58:37</td>     <th>  Log-Likelihood:    </th>          <td>2.9639e+05</td>\n",
       "</tr>\n",
       "<tr>\n",
       "  <th>No. Observations:</th>      <td>176241</td>      <th>  AIC:               </th>          <td>-5.928e+05</td>\n",
       "</tr>\n",
       "<tr>\n",
       "  <th>Df Residuals:</th>          <td>176236</td>      <th>  BIC:               </th>          <td>-5.927e+05</td>\n",
       "</tr>\n",
       "<tr>\n",
       "  <th>Df Model:</th>              <td>     5</td>      <th>                     </th>               <td> </td>    \n",
       "</tr>\n",
       "<tr>\n",
       "  <th>Covariance Type:</th>      <td>nonrobust</td>    <th>                     </th>               <td> </td>    \n",
       "</tr>\n",
       "</table>\n",
       "<table class=\"simpletable\">\n",
       "<tr>\n",
       "   <td></td>      <th>coef</th>     <th>std err</th>      <th>t</th>      <th>P>|t|</th>  <th>[0.025</th>    <th>0.975]</th>  \n",
       "</tr>\n",
       "<tr>\n",
       "  <th>PRS</th> <td>   -0.0007</td> <td>    0.000</td> <td>   -3.104</td> <td> 0.002</td> <td>   -0.001</td> <td>   -0.000</td>\n",
       "</tr>\n",
       "<tr>\n",
       "  <th>AGE</th> <td>  7.26e-05</td> <td> 1.18e-05</td> <td>    6.135</td> <td> 0.000</td> <td> 4.94e-05</td> <td> 9.58e-05</td>\n",
       "</tr>\n",
       "<tr>\n",
       "  <th>PC1</th> <td>   -0.0078</td> <td>    0.006</td> <td>   -1.227</td> <td> 0.220</td> <td>   -0.020</td> <td>    0.005</td>\n",
       "</tr>\n",
       "<tr>\n",
       "  <th>PC2</th> <td>    0.0142</td> <td>    0.008</td> <td>    1.866</td> <td> 0.062</td> <td>   -0.001</td> <td>    0.029</td>\n",
       "</tr>\n",
       "<tr>\n",
       "  <th>PC3</th> <td>   -0.0096</td> <td>    0.012</td> <td>   -0.808</td> <td> 0.419</td> <td>   -0.033</td> <td>    0.014</td>\n",
       "</tr>\n",
       "</table>\n",
       "<table class=\"simpletable\">\n",
       "<tr>\n",
       "  <th>Omnibus:</th>       <td>399169.469</td> <th>  Durbin-Watson:     </th>    <td>   2.004</td>   \n",
       "</tr>\n",
       "<tr>\n",
       "  <th>Prob(Omnibus):</th>   <td> 0.000</td>   <th>  Jarque-Bera (JB):  </th> <td>1756657249.497</td>\n",
       "</tr>\n",
       "<tr>\n",
       "  <th>Skew:</th>            <td>22.113</td>   <th>  Prob(JB):          </th>    <td>    0.00</td>   \n",
       "</tr>\n",
       "<tr>\n",
       "  <th>Kurtosis:</th>        <td>490.094</td>  <th>  Cond. No.          </th>    <td>6.40e+03</td>   \n",
       "</tr>\n",
       "</table><br/><br/>Notes:<br/>[1] R² is computed without centering (uncentered) since the model does not contain a constant.<br/>[2] Standard Errors assume that the covariance matrix of the errors is correctly specified.<br/>[3] The condition number is large, 6.4e+03. This might indicate that there are<br/>strong multicollinearity or other numerical problems."
      ],
      "text/plain": [
       "<class 'statsmodels.iolib.summary.Summary'>\n",
       "\"\"\"\n",
       "                                 OLS Regression Results                                \n",
       "=======================================================================================\n",
       "Dep. Variable:               diabetes   R-squared (uncentered):                   0.002\n",
       "Model:                            OLS   Adj. R-squared (uncentered):              0.002\n",
       "Method:                 Least Squares   F-statistic:                              78.65\n",
       "Date:                Thu, 20 Jul 2023   Prob (F-statistic):                    1.05e-82\n",
       "Time:                        23:58:37   Log-Likelihood:                      2.9639e+05\n",
       "No. Observations:              176241   AIC:                                 -5.928e+05\n",
       "Df Residuals:                  176236   BIC:                                 -5.927e+05\n",
       "Df Model:                           5                                                  \n",
       "Covariance Type:            nonrobust                                                  \n",
       "==============================================================================\n",
       "                 coef    std err          t      P>|t|      [0.025      0.975]\n",
       "------------------------------------------------------------------------------\n",
       "PRS           -0.0007      0.000     -3.104      0.002      -0.001      -0.000\n",
       "AGE          7.26e-05   1.18e-05      6.135      0.000    4.94e-05    9.58e-05\n",
       "PC1           -0.0078      0.006     -1.227      0.220      -0.020       0.005\n",
       "PC2            0.0142      0.008      1.866      0.062      -0.001       0.029\n",
       "PC3           -0.0096      0.012     -0.808      0.419      -0.033       0.014\n",
       "==============================================================================\n",
       "Omnibus:                   399169.469   Durbin-Watson:                   2.004\n",
       "Prob(Omnibus):                  0.000   Jarque-Bera (JB):       1756657249.497\n",
       "Skew:                          22.113   Prob(JB):                         0.00\n",
       "Kurtosis:                     490.094   Cond. No.                     6.40e+03\n",
       "==============================================================================\n",
       "\n",
       "Notes:\n",
       "[1] R² is computed without centering (uncentered) since the model does not contain a constant.\n",
       "[2] Standard Errors assume that the covariance matrix of the errors is correctly specified.\n",
       "[3] The condition number is large, 6.4e+03. This might indicate that there are\n",
       "strong multicollinearity or other numerical problems.\n",
       "\"\"\""
      ]
     },
     "execution_count": 367,
     "metadata": {},
     "output_type": "execute_result"
    }
   ],
   "source": [
    "res.summary()"
   ]
  },
  {
   "cell_type": "code",
   "execution_count": 368,
   "metadata": {},
   "outputs": [
    {
     "data": {
      "text/plain": [
       "0.9993002449428433"
      ]
     },
     "execution_count": 368,
     "metadata": {},
     "output_type": "execute_result"
    }
   ],
   "source": [
    "np.exp(-0.0007)"
   ]
  }
 ],
 "metadata": {
  "kernelspec": {
   "display_name": "Python 3 (ipykernel)",
   "language": "python",
   "name": "python3"
  },
  "language_info": {
   "codemirror_mode": {
    "name": "ipython",
    "version": 3
   },
   "file_extension": ".py",
   "mimetype": "text/x-python",
   "name": "python",
   "nbconvert_exporter": "python",
   "pygments_lexer": "ipython3",
   "version": "3.9.18"
  }
 },
 "nbformat": 4,
 "nbformat_minor": 4
}
