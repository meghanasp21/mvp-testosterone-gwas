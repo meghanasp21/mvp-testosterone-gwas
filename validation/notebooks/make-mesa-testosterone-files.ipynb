{
 "cells": [
  {
   "cell_type": "code",
   "execution_count": 37,
   "metadata": {},
   "outputs": [],
   "source": [
    "import pandas as pd\n",
    "import os\n",
    "import numpy as np\n",
    "import scipy.stats"
   ]
  },
  {
   "cell_type": "code",
   "execution_count": 38,
   "metadata": {},
   "outputs": [],
   "source": [
    "#plotting\n",
    "import matplotlib\n",
    "import seaborn as sns\n",
    "matplotlib.rcParams['pdf.fonttype'] = 42\n",
    "matplotlib.rcParams['ps.fonttype'] = 42\n",
    "from matplotlib import pyplot as plt\n",
    "import matplotlib.patches as mpatches"
   ]
  },
  {
   "cell_type": "markdown",
   "metadata": {},
   "source": [
    "## Get race mapping"
   ]
  },
  {
   "cell_type": "code",
   "execution_count": 39,
   "metadata": {},
   "outputs": [
    {
     "name": "stderr",
     "output_type": "stream",
     "text": [
      "/cellar/users/mpagadal/Programs/miniconda3/lib/python3.9/site-packages/IPython/core/interactiveshell.py:3526: DtypeWarning: Columns (10,16,17,20,23,24,25,26,27,33,44,46,48,49,72,74,75,76,78,92,93,94,95,96,97,98,99,100,101,102,117,120,122,123,124,125,136,137,140,141,145,147,148,149,172,173,174,175,176,215,216,217,219,220,221,222,223,224,225,228,229,230,231,232,233,234,236,237,239,240,241,242,244,245,247,248,250,253,256,257,258,259,260,261,262,264,266,267,268,270,271,272,273,274,275,276,277,278,279,280,281,282,284,290,291,293,294,296,297,299,300,301,302,303,304,305,307,308,309,310,312,315,316,496,497,498,500,501,502,503,505,506,507,509,511,513,514,516,517,518,519,520,521,522,523,524,525,526,527,529,530,531,532,533,534,541,542,543,544,546,646,647,648,649,657,658,659,661,662,663,664,665,666,667,668,669,675,678,684,685,686,711,714,715,716,721,723,724,725,726,727,728,729,730,731,732,733,734,735,740,742,745,746,748,749,750,751,752,753,754,755,756,758,760,761,762,763,764,765,766,767,768,769,770,771,772,773,774,775,776,777,778,779,780,781,782,783,784,785,786,787,788,789,790,791,792,793,794,795,796,797,798,799,800,801,802,803,804,805,806,807,808,809,810,811,812,813,814,815,816,817,818,819,820,821,822,823,824,825,826,827,828,829,830,831,832,833,834,835,836,837,838,839,840,841,842,843,844,845,923,924,925,926,927,928,929,930,931,932,933,934,935,939,941,942,947,955,956,958,962,964,965,966,967,968,969,970,971,972,977,978,980,983,985,988,990,993,995,999,1003,1004,1005,1006,1013,1014,1015,1017,1019,1021,1022,1023,1024,1026,1027,1028,1029,1030,1031,1032,1033,1034,1035,1036,1037,1038,1039,1040,1041,1042,1043,1044,1045,1046,1047,1048,1049,1050,1051,1052,1053,1054,1055,1056,1057,1058,1059,1060,1061,1062,1063,1064,1065,1066,1067,1068,1069,1070,1071,1072,1073,1074,1075,1076,1077,1078,1079,1080,1081,1082,1083,1084,1085,1086,1087,1088,1089,1090,1091,1092,1093,1094,1095,1096,1097,1098,1099,1100,1101,1102,1103,1104,1126,1128,1129,1130,1132,1133,1134,1135,1136,1137,1138,1139,1153,1154,1155,1156,1157) have mixed types.Specify dtype option on import or set low_memory=False.\n",
      "  exec(code_obj, self.user_global_ns, self.user_ns)\n"
     ]
    },
    {
     "name": "stdout",
     "output_type": "stream",
     "text": [
      "(5830, 1161)\n"
     ]
    }
   ],
   "source": [
    "race=pd.read_csv(\"/cellar/controlled/dbGaP/2017_dbGap_phs000209.v13.p3_MESA/78672/PhenoGenotypeFiles/RootStudyConsentSet_phs000209.MESA.v13.p3.c1.HMB/PhenotypeFiles/phs000209.v13.pht001116.v10.p3.c1.MESA_Exam1Main.HMB.txt\",comment=\"#\",delimiter=\"\\t\")\n",
    "print(race.shape)\n",
    "afr=race[race[\"race1c\"]==3][\"dbGaP_Subject_ID\"].tolist()\n",
    "sample=pd.read_csv(\"/cellar/controlled/dbGaP/2017_dbGap_phs000209.v13.p3_MESA/78672/PhenoGenotypeFiles/RootStudyConsentSet_phs000209.MESA.v13.p3.c1.HMB/PhenotypeFiles/phs000209.v13.pht001110.v8.p3.MESA_Sample.MULTI.txt\",comment=\"#\",delimiter=\"\\t\")\n",
    "afr_subjid=sample[sample[\"dbGaP_Subject_ID\"].isin(afr)][\"SUBJID\"].unique().tolist()"
   ]
  },
  {
   "cell_type": "code",
   "execution_count": 40,
   "metadata": {},
   "outputs": [
    {
     "name": "stdout",
     "output_type": "stream",
     "text": [
      "(1482, 2)\n"
     ]
    }
   ],
   "source": [
    "df_afr=pd.DataFrame({\"FID\":0,\"IID\":afr_subjid})\n",
    "df_afr[\"IID\"]=\"0_\"+df_afr[\"IID\"].astype(str)\n",
    "print(df_afr.shape)\n",
    "df_afr.to_csv(\"../data/mesa/african.pts.txt\",header=None,index=None,sep=\"\\t\")"
   ]
  },
  {
   "cell_type": "markdown",
   "metadata": {},
   "source": [
    "### subject ID"
   ]
  },
  {
   "cell_type": "code",
   "execution_count": 41,
   "metadata": {},
   "outputs": [],
   "source": [
    "df=pd.read_csv(\"/cellar/controlled/dbGaP/2017_dbGap_phs000209.v13.p3_MESA/78672/PhenoGenotypeFiles/RootStudyConsentSet_phs000209.MESA.v13.p3.c1.HMB/PhenotypeFiles/phs000209.v13.pht001109.v1.p3.MESA_Pedigree.MULTI.txt\",comment=\"#\",delimiter=\"\\t\")\n",
    "df[\"ID\"]=0"
   ]
  },
  {
   "cell_type": "code",
   "execution_count": 42,
   "metadata": {},
   "outputs": [],
   "source": [
    "remove=df[\"MOTHER\"].unique().tolist()+df[\"FATHER\"].unique().tolist()\n",
    "keep=df[~df[\"SUBJID\"].isin(remove)]\n",
    "keep=keep[keep[\"TWINID\"].isnull()]"
   ]
  },
  {
   "cell_type": "code",
   "execution_count": 43,
   "metadata": {},
   "outputs": [],
   "source": [
    "related=pd.read_csv(\"../data/mesa/patients/remove.related.first.degree.txt\",header=None,delimiter=\"\\t\")\n",
    "related[1]=related[1].str.split(\"_\").str[1]\n",
    "related[1]=related[1].astype(int)"
   ]
  },
  {
   "cell_type": "code",
   "execution_count": 44,
   "metadata": {},
   "outputs": [],
   "source": [
    "keep=keep[~keep[\"SUBJID\"].isin(related[1].tolist())]"
   ]
  },
  {
   "cell_type": "code",
   "execution_count": 45,
   "metadata": {},
   "outputs": [],
   "source": [
    "df[~df[\"SUBJID\"].isin(keep[\"SUBJID\"].tolist())][[\"ID\",\"SUBJID\"]].to_csv(\"../data/mesa/patients/remove.related.first.degree.pedigree.txt\",header=None,index=None,sep=\"\\t\")"
   ]
  },
  {
   "cell_type": "markdown",
   "metadata": {},
   "source": [
    "## Pheno"
   ]
  },
  {
   "cell_type": "code",
   "execution_count": 46,
   "metadata": {},
   "outputs": [
    {
     "name": "stderr",
     "output_type": "stream",
     "text": [
      "/tmp/ipykernel_1786333/2797076554.py:4: SettingWithCopyWarning: \n",
      "A value is trying to be set on a copy of a slice from a DataFrame.\n",
      "Try using .loc[row_indexer,col_indexer] = value instead\n",
      "\n",
      "See the caveats in the documentation: https://pandas.pydata.org/pandas-docs/stable/user_guide/indexing.html#returning-a-view-versus-a-copy\n",
      "  pheno_afr[\"SUBJID\"]=pheno_afr[\"dbGaP_Subject_ID\"].map(mp_sample)\n",
      "/tmp/ipykernel_1786333/2797076554.py:5: SettingWithCopyWarning: \n",
      "A value is trying to be set on a copy of a slice from a DataFrame.\n",
      "Try using .loc[row_indexer,col_indexer] = value instead\n",
      "\n",
      "See the caveats in the documentation: https://pandas.pydata.org/pandas-docs/stable/user_guide/indexing.html#returning-a-view-versus-a-copy\n",
      "  pheno_afr[\"SUBJID\"]=pheno_afr[\"SUBJID\"].astype(int)\n"
     ]
    }
   ],
   "source": [
    "pheno=pd.read_csv(\"/cellar/controlled/dbGaP/2017_dbGap_phs000209.v13.p3_MESA/78672/PhenoGenotypeFiles/RootStudyConsentSet_phs000209.MESA.v13.p3.c1.HMB/PhenotypeFiles/phs000209.v13.pht001208.v2.p3.c1.MESA_AncilMesaSexHormone.HMB.txt\",comment=\"#\",delimiter=\"\\t\")\n",
    "pheno_afr=pheno[pheno[\"dbGaP_Subject_ID\"].isin(afr)]\n",
    "mp_sample=dict(zip(sample[\"dbGaP_Subject_ID\"],sample[\"SUBJID\"]))\n",
    "pheno_afr[\"SUBJID\"]=pheno_afr[\"dbGaP_Subject_ID\"].map(mp_sample)\n",
    "pheno_afr[\"SUBJID\"]=pheno_afr[\"SUBJID\"].astype(int)"
   ]
  },
  {
   "cell_type": "code",
   "execution_count": 47,
   "metadata": {},
   "outputs": [],
   "source": [
    "pheno_afr=pheno_afr[~pheno_afr[\"SUBJID\"].isin(df[~df[\"SUBJID\"].isin(keep[\"SUBJID\"].tolist())][\"SUBJID\"].tolist())]"
   ]
  },
  {
   "cell_type": "code",
   "execution_count": 48,
   "metadata": {},
   "outputs": [],
   "source": [
    "pheno_afr[\"SUBJID\"]=\"0_\"+pheno_afr[\"SUBJID\"].astype(str)\n",
    "pheno_afr[\"SUBJID2\"]=0\n",
    "pheno_afr[[\"SUBJID2\",\"SUBJID\",\"tottst1\",\"freetst1\",\"shbg1\"]].to_csv(\"../data/mesa/pheno.tsv\",index=None,sep=\"\\t\")"
   ]
  },
  {
   "cell_type": "code",
   "execution_count": 49,
   "metadata": {},
   "outputs": [],
   "source": [
    "pheno=pd.read_csv(\"../data/mesa/phenotypes/pheno.rank.norm.tsv\",delimiter=\"\\t\")"
   ]
  },
  {
   "cell_type": "code",
   "execution_count": 50,
   "metadata": {},
   "outputs": [],
   "source": [
    "pheno=pheno.fillna(\"NA\")"
   ]
  },
  {
   "cell_type": "code",
   "execution_count": 51,
   "metadata": {},
   "outputs": [],
   "source": [
    "pheno=pheno.rename(columns={\"SUBJID2\":\"FID\",\"SUBJID\":\"IID\"})"
   ]
  },
  {
   "cell_type": "code",
   "execution_count": 52,
   "metadata": {},
   "outputs": [],
   "source": [
    "pheno.to_csv(\"../data/mesa/phenotypes/pheno.rank.norm.tsv\",index=None,sep=\"\\t\")"
   ]
  },
  {
   "cell_type": "markdown",
   "metadata": {},
   "source": [
    "### make covariate file"
   ]
  },
  {
   "cell_type": "code",
   "execution_count": 53,
   "metadata": {},
   "outputs": [
    {
     "name": "stderr",
     "output_type": "stream",
     "text": [
      "/tmp/ipykernel_1786333/1213312504.py:2: SettingWithCopyWarning: \n",
      "A value is trying to be set on a copy of a slice from a DataFrame.\n",
      "Try using .loc[row_indexer,col_indexer] = value instead\n",
      "\n",
      "See the caveats in the documentation: https://pandas.pydata.org/pandas-docs/stable/user_guide/indexing.html#returning-a-view-versus-a-copy\n",
      "  cov[\"SUBJID\"]=cov[\"dbGaP_Subject_ID\"].map(mp_sample)\n"
     ]
    }
   ],
   "source": [
    "cov=race[race[\"dbGaP_Subject_ID\"].isin(afr)]\n",
    "cov[\"SUBJID\"]=cov[\"dbGaP_Subject_ID\"].map(mp_sample)"
   ]
  },
  {
   "cell_type": "code",
   "execution_count": 54,
   "metadata": {},
   "outputs": [
    {
     "name": "stderr",
     "output_type": "stream",
     "text": [
      "/tmp/ipykernel_1786333/4077829195.py:1: SettingWithCopyWarning: \n",
      "A value is trying to be set on a copy of a slice from a DataFrame.\n",
      "Try using .loc[row_indexer,col_indexer] = value instead\n",
      "\n",
      "See the caveats in the documentation: https://pandas.pydata.org/pandas-docs/stable/user_guide/indexing.html#returning-a-view-versus-a-copy\n",
      "  cov[\"SUBJID\"]=\"0_\"+cov[\"SUBJID\"].astype(str)\n",
      "/tmp/ipykernel_1786333/4077829195.py:2: SettingWithCopyWarning: \n",
      "A value is trying to be set on a copy of a slice from a DataFrame.\n",
      "Try using .loc[row_indexer,col_indexer] = value instead\n",
      "\n",
      "See the caveats in the documentation: https://pandas.pydata.org/pandas-docs/stable/user_guide/indexing.html#returning-a-view-versus-a-copy\n",
      "  cov[\"SUBJID2\"]=0\n"
     ]
    }
   ],
   "source": [
    "cov[\"SUBJID\"]=\"0_\"+cov[\"SUBJID\"].astype(str)\n",
    "cov[\"SUBJID2\"]=0"
   ]
  },
  {
   "cell_type": "code",
   "execution_count": 55,
   "metadata": {},
   "outputs": [],
   "source": [
    "cov=cov[[\"SUBJID2\",\"SUBJID\",\"age1c\",\"gender1\"]]\n",
    "cov.columns=[\"FID\",\"IID\",\"Age\",\"Gender\"]"
   ]
  },
  {
   "cell_type": "code",
   "execution_count": 56,
   "metadata": {},
   "outputs": [],
   "source": [
    "pc=pd.read_csv(\"/cellar/users/mpagadal/ancestry-analysis/mesa/genotypes2/mesa.ancestry\",delimiter=\"\\t\")"
   ]
  },
  {
   "cell_type": "code",
   "execution_count": 57,
   "metadata": {},
   "outputs": [],
   "source": [
    "pc[\"IID\"]=\"0_\"+pc[\"IID\"]"
   ]
  },
  {
   "cell_type": "code",
   "execution_count": 58,
   "metadata": {},
   "outputs": [],
   "source": [
    "cov=pd.merge(cov,pc,on=[\"FID\",\"IID\"],how=\"left\")"
   ]
  },
  {
   "cell_type": "code",
   "execution_count": 59,
   "metadata": {},
   "outputs": [],
   "source": [
    "cov=cov.fillna(\"NA\")"
   ]
  },
  {
   "cell_type": "code",
   "execution_count": 60,
   "metadata": {},
   "outputs": [],
   "source": [
    "cov.to_csv(\"../data/mesa/covariates/cov.tsv\",index=None,sep=\"\\t\")"
   ]
  },
  {
   "cell_type": "markdown",
   "metadata": {},
   "source": [
    "## get results"
   ]
  },
  {
   "cell_type": "code",
   "execution_count": 61,
   "metadata": {},
   "outputs": [],
   "source": [
    "def compile_stats(direct):\n",
    "    files=[x for x in os.listdir(direct) if \"linear\" in x]\n",
    "    compiled_results=pd.DataFrame()\n",
    "    for x in files:\n",
    "        results=pd.read_csv(direct+x,delim_whitespace=True)\n",
    "        compiled_results=compiled_results.append(results)\n",
    "    compiled_results=compiled_results[compiled_results[\"TEST\"]==\"ADD\"]\n",
    "    return(compiled_results)"
   ]
  },
  {
   "cell_type": "code",
   "execution_count": 62,
   "metadata": {},
   "outputs": [],
   "source": [
    "mesa_tot=compile_stats(\"../data/mesa/summarystats/tottst1/\")\n",
    "mesa_tot[\"hg19\"]=\"chr\"+mesa_tot[\"ID\"].str.rsplit(\":\",2).str[0]\n",
    "mesa_tot[\"pheno\"]=\"total\""
   ]
  },
  {
   "cell_type": "code",
   "execution_count": 63,
   "metadata": {},
   "outputs": [],
   "source": [
    "mesa_free=compile_stats(\"../data/mesa/summarystats/freetst1/\")\n",
    "mesa_free[\"hg19\"]=\"chr\"+mesa_free[\"ID\"].str.rsplit(\":\",2).str[0]\n",
    "mesa_free[\"pheno\"]=\"free\""
   ]
  },
  {
   "cell_type": "code",
   "execution_count": 64,
   "metadata": {},
   "outputs": [],
   "source": [
    "mesa_shbg=compile_stats(\"../data/mesa/summarystats/shbg1/\")\n",
    "mesa_shbg[\"hg19\"]=\"chr\"+mesa_shbg[\"ID\"].str.rsplit(\":\",2).str[0]\n",
    "mesa_shbg[\"pheno\"]=\"shbg\""
   ]
  },
  {
   "cell_type": "code",
   "execution_count": 67,
   "metadata": {},
   "outputs": [],
   "source": [
    "mesa_compiled=mesa_tot.append(mesa_free)\n",
    "mesa_compiled=mesa_compiled.append(mesa_shbg)"
   ]
  },
  {
   "cell_type": "code",
   "execution_count": 75,
   "metadata": {},
   "outputs": [],
   "source": [
    "tables2=pd.read_csv(\"../../supplemental/tables2.csv\",delimiter=\"\\t\")\n",
    "tables2[\"SNP\"]=tables2[\"SNP\"].str.split(\"chr\").str[1]\n",
    "lifted=pd.read_csv(\"../../notebooks/testosterone.hg19.bed\",header=None,delimiter=\"\\t\")\n",
    "lifted[\"hg19_coord\"]=lifted[0].astype(str)+\":\"+lifted[1].astype(str)"
   ]
  },
  {
   "cell_type": "code",
   "execution_count": 76,
   "metadata": {},
   "outputs": [],
   "source": [
    "mp_hg19=dict(zip(lifted[3],lifted[\"hg19_coord\"]))"
   ]
  },
  {
   "cell_type": "code",
   "execution_count": 77,
   "metadata": {},
   "outputs": [],
   "source": [
    "tables2[\"hg19\"]=tables2[\"SNP\"].map(mp_hg19)"
   ]
  },
  {
   "cell_type": "code",
   "execution_count": 80,
   "metadata": {},
   "outputs": [],
   "source": [
    "tables2=pd.merge(tables2,mesa_compiled,on=[\"pheno\",\"hg19\"],how=\"left\")"
   ]
  },
  {
   "cell_type": "code",
   "execution_count": 83,
   "metadata": {},
   "outputs": [],
   "source": [
    "table_check=tables2[tables2[\"group\"]==\"AFR\"]"
   ]
  },
  {
   "cell_type": "code",
   "execution_count": 84,
   "metadata": {},
   "outputs": [],
   "source": [
    "# table_check=table_check[~table_check[\"A1_y\"].isnull()]\n",
    "# table_check=table_check[table_check[\"conditional\"]==\"ancestry-specific\"]"
   ]
  },
  {
   "cell_type": "code",
   "execution_count": 85,
   "metadata": {},
   "outputs": [
    {
     "name": "stderr",
     "output_type": "stream",
     "text": [
      "/tmp/ipykernel_1786333/3366581479.py:1: SettingWithCopyWarning: \n",
      "A value is trying to be set on a copy of a slice from a DataFrame.\n",
      "Try using .loc[row_indexer,col_indexer] = value instead\n",
      "\n",
      "See the caveats in the documentation: https://pandas.pydata.org/pandas-docs/stable/user_guide/indexing.html#returning-a-view-versus-a-copy\n",
      "  table_check[\"BETA_y\"]=np.where(table_check[\"A1_x\"]!=table_check[\"A1_y\"],table_check[\"BETA_y\"]*-1,table_check[\"BETA_y\"])\n"
     ]
    }
   ],
   "source": [
    "table_check[\"BETA_y\"]=np.where(table_check[\"A1_x\"]!=table_check[\"A1_y\"],table_check[\"BETA_y\"]*-1,table_check[\"BETA_y\"])"
   ]
  },
  {
   "cell_type": "code",
   "execution_count": 86,
   "metadata": {},
   "outputs": [
    {
     "name": "stderr",
     "output_type": "stream",
     "text": [
      "/tmp/ipykernel_1786333/4071190201.py:1: SettingWithCopyWarning: \n",
      "A value is trying to be set on a copy of a slice from a DataFrame.\n",
      "Try using .loc[row_indexer,col_indexer] = value instead\n",
      "\n",
      "See the caveats in the documentation: https://pandas.pydata.org/pandas-docs/stable/user_guide/indexing.html#returning-a-view-versus-a-copy\n",
      "  table_check[\"color\"]=np.where(table_check[\"pheno\"]==\"shbg\",\"blue\",\"green\")\n"
     ]
    }
   ],
   "source": [
    "table_check[\"color\"]=np.where(table_check[\"pheno\"]==\"shbg\",\"blue\",\"green\")"
   ]
  },
  {
   "cell_type": "code",
   "execution_count": 87,
   "metadata": {},
   "outputs": [
    {
     "data": {
      "text/plain": [
       "(0.6391209170321944, 0.004296742164895259)"
      ]
     },
     "execution_count": 87,
     "metadata": {},
     "output_type": "execute_result"
    }
   ],
   "source": [
    "scipy.stats.pearsonr(table_check[~table_check[\"BETA_y\"].isnull()][\"BETA_x\"],table_check[~table_check[\"BETA_y\"].isnull()][\"BETA_y\"])"
   ]
  },
  {
   "cell_type": "code",
   "execution_count": 89,
   "metadata": {},
   "outputs": [
    {
     "data": {
      "image/png": "[encoded data removed]",
      "text/plain": [
       "<Figure size 640x480 with 1 Axes>"
      ]
     },
     "metadata": {},
     "output_type": "display_data"
    }
   ],
   "source": [
    "plt.errorbar(table_check[table_check[\"pheno\"]==\"total\"][\"BETA_x\"],table_check[table_check[\"pheno\"]==\"total\"][\"BETA_y\"], xerr=table_check[table_check[\"pheno\"]==\"total\"][\"SE_x\"].tolist(), yerr=table_check[table_check[\"pheno\"]==\"total\"][\"SE_y\"].tolist(), color=\"blue\",fmt=\"o\")\n",
    "plt.errorbar(table_check[table_check[\"pheno\"]==\"shbg\"][\"BETA_x\"],table_check[table_check[\"pheno\"]==\"shbg\"][\"BETA_y\"], xerr=table_check[table_check[\"pheno\"]==\"shbg\"][\"SE_x\"].tolist(), yerr=table_check[table_check[\"pheno\"]==\"shbg\"][\"SE_y\"].tolist(), color=\"green\",fmt=\"o\")\n",
    "plt.xlim(-0.15,0.25)\n",
    "plt.ylim(-0.20,0.30)\n",
    "plt.axvline(0,color=\"grey\",linestyle=\"--\")\n",
    "plt.axhline(0,color=\"grey\",linestyle=\"--\")\n",
    "plt.xlabel(\"MVP beta value\")\n",
    "plt.ylabel(\"mesa beta value\")\n",
    "plt.savefig(\"../plots/mesa.beta.compare.pdf\")"
   ]
  },
  {
   "cell_type": "code",
   "execution_count": 1,
   "metadata": {},
   "outputs": [
    {
     "ename": "NameError",
     "evalue": "name 'table_check' is not defined",
     "output_type": "error",
     "traceback": [
      "\u001b[0;31m---------------------------------------------------------------------------\u001b[0m",
      "\u001b[0;31mNameError\u001b[0m                                 Traceback (most recent call last)",
      "Cell \u001b[0;32mIn[1], line 1\u001b[0m\n\u001b[0;32m----> 1\u001b[0m \u001b[43mtable_check\u001b[49m\n",
      "\u001b[0;31mNameError\u001b[0m: name 'table_check' is not defined"
     ]
    }
   ],
   "source": [
    "table_check"
   ]
  },
  {
   "cell_type": "code",
   "execution_count": null,
   "metadata": {},
   "outputs": [],
   "source": []
  }
 ],
 "metadata": {
  "kernelspec": {
   "display_name": "Python 3 (ipykernel)",
   "language": "python",
   "name": "python3"
  },
  "language_info": {
   "codemirror_mode": {
    "name": "ipython",
    "version": 3
   },
   "file_extension": ".py",
   "mimetype": "text/x-python",
   "name": "python",
   "nbconvert_exporter": "python",
   "pygments_lexer": "ipython3",
   "version": "3.9.18"
  }
 },
 "nbformat": 4,
 "nbformat_minor": 4
}
